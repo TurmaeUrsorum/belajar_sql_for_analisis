{
 "cells": [
  {
   "cell_type": "code",
   "execution_count": 1,
   "id": "757f4f2f",
   "metadata": {},
   "outputs": [],
   "source": [
    "import pandas as pd"
   ]
  },
  {
   "cell_type": "code",
   "execution_count": 3,
   "id": "feffd138",
   "metadata": {},
   "outputs": [
    {
     "name": "stdout",
     "output_type": "stream",
     "text": [
      "<class 'pandas.core.frame.DataFrame'>\n",
      "RangeIndex: 4 entries, 0 to 3\n",
      "Data columns (total 3 columns):\n",
      " #   Column         Non-Null Count  Dtype \n",
      "---  ------         --------------  ----- \n",
      " 0   customer_id    4 non-null      int64 \n",
      " 1   customer_name  4 non-null      object\n",
      " 2   email          4 non-null      object\n",
      "dtypes: int64(1), object(2)\n",
      "memory usage: 228.0+ bytes\n",
      "<class 'pandas.core.frame.DataFrame'>\n",
      "RangeIndex: 8 entries, 0 to 7\n",
      "Data columns (total 3 columns):\n",
      " #   Column      Non-Null Count  Dtype\n",
      "---  ------      --------------  -----\n",
      " 0   order_id    8 non-null      int64\n",
      " 1   product_id  8 non-null      int64\n",
      " 2   quantity    8 non-null      int64\n",
      "dtypes: int64(3)\n",
      "memory usage: 324.0 bytes\n",
      "<class 'pandas.core.frame.DataFrame'>\n",
      "RangeIndex: 5 entries, 0 to 4\n",
      "Data columns (total 3 columns):\n",
      " #   Column       Non-Null Count  Dtype \n",
      "---  ------       --------------  ----- \n",
      " 0   order_id     5 non-null      int64 \n",
      " 1   customer_id  5 non-null      int64 \n",
      " 2   order_date   5 non-null      object\n",
      "dtypes: int64(2), object(1)\n",
      "memory usage: 252.0+ bytes\n",
      "<class 'pandas.core.frame.DataFrame'>\n",
      "RangeIndex: 5 entries, 0 to 4\n",
      "Data columns (total 4 columns):\n",
      " #   Column        Non-Null Count  Dtype \n",
      "---  ------        --------------  ----- \n",
      " 0   product_id    5 non-null      int64 \n",
      " 1   product_name  5 non-null      object\n",
      " 2   price         5 non-null      int64 \n",
      " 3   category_id   5 non-null      int64 \n",
      "dtypes: int64(3), object(1)\n",
      "memory usage: 292.0+ bytes\n"
     ]
    }
   ],
   "source": [
    "df_custormer = pd.read_csv(\"/home/brilly/Documents/sql_join/customers.csv\")\n",
    "df_order_items = pd.read_csv(\"/home/brilly/Documents/sql_join/order_items.csv\")\n",
    "df_orders = pd.read_csv(\"/home/brilly/Documents/sql_join/orders.csv\")\n",
    "df_products = pd.read_csv(\"/home/brilly/Documents/sql_join/product.csv\")\n",
    "\n",
    "\n",
    "df_custormer.info()\n",
    "df_order_items.info()\n",
    "df_orders.info()\n",
    "df_products.info()"
   ]
  },
  {
   "cell_type": "code",
   "execution_count": 4,
   "id": "bfa4e6b8",
   "metadata": {},
   "outputs": [
    {
     "name": "stdout",
     "output_type": "stream",
     "text": [
      "<class 'pandas.core.frame.DataFrame'>\n",
      "RangeIndex: 4 entries, 0 to 3\n",
      "Data columns (total 3 columns):\n",
      " #   Column         Non-Null Count  Dtype \n",
      "---  ------         --------------  ----- \n",
      " 0   customer_id    4 non-null      int64 \n",
      " 1   customer_name  4 non-null      object\n",
      " 2   email          4 non-null      object\n",
      "dtypes: int64(1), object(2)\n",
      "memory usage: 228.0+ bytes\n"
     ]
    }
   ],
   "source": [
    "df_custormer.info()"
   ]
  },
  {
   "cell_type": "code",
   "execution_count": 5,
   "id": "6978e7b7",
   "metadata": {},
   "outputs": [
    {
     "name": "stdout",
     "output_type": "stream",
     "text": [
      "<class 'pandas.core.frame.DataFrame'>\n",
      "RangeIndex: 8 entries, 0 to 7\n",
      "Data columns (total 3 columns):\n",
      " #   Column      Non-Null Count  Dtype\n",
      "---  ------      --------------  -----\n",
      " 0   order_id    8 non-null      int64\n",
      " 1   product_id  8 non-null      int64\n",
      " 2   quantity    8 non-null      int64\n",
      "dtypes: int64(3)\n",
      "memory usage: 324.0 bytes\n"
     ]
    }
   ],
   "source": [
    "df_order_items.info()"
   ]
  },
  {
   "cell_type": "code",
   "execution_count": 6,
   "id": "afcc4275",
   "metadata": {},
   "outputs": [
    {
     "name": "stdout",
     "output_type": "stream",
     "text": [
      "<class 'pandas.core.frame.DataFrame'>\n",
      "RangeIndex: 5 entries, 0 to 4\n",
      "Data columns (total 3 columns):\n",
      " #   Column       Non-Null Count  Dtype \n",
      "---  ------       --------------  ----- \n",
      " 0   order_id     5 non-null      int64 \n",
      " 1   customer_id  5 non-null      int64 \n",
      " 2   order_date   5 non-null      object\n",
      "dtypes: int64(2), object(1)\n",
      "memory usage: 252.0+ bytes\n"
     ]
    }
   ],
   "source": [
    "df_orders.info()"
   ]
  },
  {
   "cell_type": "code",
   "execution_count": 7,
   "id": "6cf1e437",
   "metadata": {},
   "outputs": [
    {
     "name": "stdout",
     "output_type": "stream",
     "text": [
      "<class 'pandas.core.frame.DataFrame'>\n",
      "RangeIndex: 5 entries, 0 to 4\n",
      "Data columns (total 4 columns):\n",
      " #   Column        Non-Null Count  Dtype \n",
      "---  ------        --------------  ----- \n",
      " 0   product_id    5 non-null      int64 \n",
      " 1   product_name  5 non-null      object\n",
      " 2   price         5 non-null      int64 \n",
      " 3   category_id   5 non-null      int64 \n",
      "dtypes: int64(3), object(1)\n",
      "memory usage: 292.0+ bytes\n"
     ]
    }
   ],
   "source": [
    "df_products.info()"
   ]
  },
  {
   "cell_type": "code",
   "execution_count": null,
   "id": "aa94d6c8",
   "metadata": {},
   "outputs": [
    {
     "data": {
      "text/html": [
       "<div><style>\n",
       ".dataframe > thead > tr,\n",
       ".dataframe > tbody > tr {\n",
       "  text-align: right;\n",
       "  white-space: pre-wrap;\n",
       "}\n",
       "</style>\n",
       "<small>shape: (1, 4)</small><table border=\"1\" class=\"dataframe\"><thead><tr><th>name</th><th>birthdate</th><th>weight</th><th>height</th></tr><tr><td>u32</td><td>u32</td><td>u32</td><td>u32</td></tr></thead><tbody><tr><td>0</td><td>0</td><td>0</td><td>0</td></tr></tbody></table></div>"
      ],
      "text/plain": [
       "shape: (1, 4)\n",
       "┌──────┬───────────┬────────┬────────┐\n",
       "│ name ┆ birthdate ┆ weight ┆ height │\n",
       "│ ---  ┆ ---       ┆ ---    ┆ ---    │\n",
       "│ u32  ┆ u32       ┆ u32    ┆ u32    │\n",
       "╞══════╪═══════════╪════════╪════════╡\n",
       "│ 0    ┆ 0         ┆ 0      ┆ 0      │\n",
       "└──────┴───────────┴────────┴────────┘"
      ]
     },
     "execution_count": 9,
     "metadata": {},
     "output_type": "execute_result"
    }
   ],
   "source": [
    "import polars as pl\n",
    "import datetime as dt\n",
    "\n",
    "df_polars = pl.DataFrame(\n",
    "    {\n",
    "        \"name\": [\"Alice Archer\", \"Ben Brown\", \"Chloe Cooper\", \"Daniel Donovan\"],\n",
    "        \"birthdate\": [\n",
    "            dt.date(1997, 1, 10),\n",
    "            dt.date(1985, 2, 15),\n",
    "            dt.date(1983, 3, 22),\n",
    "            dt.date(1981, 4, 30),\n",
    "        ],\n",
    "        \"weight\": [57.9, 72.5, 53.6, 64.2],  # (kg)\n",
    "        \"height\": [1.56, 1.77, 1.65, 1.75],  # (m)\n",
    "        \"ayam\": []\n",
    "    }\n",
    ")\n",
    "\n",
    "df_polars.to_pandas()\n",
    "\n",
    "# df_polars.head(4)\n",
    "\n",
    "# df_polars.describe()\n",
    "df_polars.null_count()\n",
    "\n",
    "# df_polars.select(pl.col(\"birthdate\").filter(pl.col(\"height\") > 1.7))\n",
    "\n",
    "# df_polars.filter(pl.col(\"height\") > 1.0).head(1)"
   ]
  },
  {
   "cell_type": "code",
   "execution_count": 3,
   "id": "d693aeee",
   "metadata": {},
   "outputs": [
    {
     "name": "stderr",
     "output_type": "stream",
     "text": [
      "2025-08-07 14:16:36,528\tINFO util.py:154 -- Outdated packages:\n",
      "  ipywidgets==7.8.1 found, needs ipywidgets>=8\n",
      "Run `pip install -U ipywidgets`, then restart the notebook server for rich notebook output.\n"
     ]
    },
    {
     "name": "stdout",
     "output_type": "stream",
     "text": [
      "Engine Ray\n"
     ]
    }
   ],
   "source": [
    "import modin.config as cfg\n",
    "\n",
    "print(\"Engine\", cfg.Engine.get())"
   ]
  },
  {
   "cell_type": "code",
   "execution_count": 6,
   "id": "b14a6b46",
   "metadata": {},
   "outputs": [
    {
     "name": "stdout",
     "output_type": "stream",
     "text": [
      "   0  1  2\n",
      "0  1  2  3\n",
      "1  4  5  6\n"
     ]
    }
   ],
   "source": [
    "import modin.config as cfg\n",
    "cfg.Engine.put(\"ray\")  # pastikan Ray digunakan\n",
    "\n",
    "import modin.pandas as pd\n",
    "\n",
    "# Coba baca file CSV kecil atau buat DataFrame\n",
    "df = pd.DataFrame([[1, 2, 3], [4, 5, 6]])\n",
    "print(df.head())\n"
   ]
  },
  {
   "cell_type": "code",
   "execution_count": 3,
   "id": "e049bb8f",
   "metadata": {},
   "outputs": [
    {
     "name": "stdout",
     "output_type": "stream",
     "text": [
      "<class 'pandas.core.frame.DataFrame'>\n",
      "RangeIndex: 607 entries, 0 to 606\n",
      "Data columns (total 12 columns):\n",
      " #   Column              Non-Null Count  Dtype \n",
      "---  ------              --------------  ----- \n",
      " 0   Unnamed: 0          607 non-null    int64 \n",
      " 1   work_year           607 non-null    int64 \n",
      " 2   experience_level    607 non-null    object\n",
      " 3   employment_type     607 non-null    object\n",
      " 4   job_title           607 non-null    object\n",
      " 5   salary              607 non-null    int64 \n",
      " 6   salary_currency     607 non-null    object\n",
      " 7   salary_in_usd       607 non-null    int64 \n",
      " 8   employee_residence  607 non-null    object\n",
      " 9   remote_ratio        607 non-null    int64 \n",
      " 10  company_location    607 non-null    object\n",
      " 11  company_size        607 non-null    object\n",
      "dtypes: int64(5), object(7)\n",
      "memory usage: 57.0+ KB\n"
     ]
    },
    {
     "data": {
      "text/html": [
       "<div>\n",
       "<style scoped>\n",
       "    .dataframe tbody tr th:only-of-type {\n",
       "        vertical-align: middle;\n",
       "    }\n",
       "\n",
       "    .dataframe tbody tr th {\n",
       "        vertical-align: top;\n",
       "    }\n",
       "\n",
       "    .dataframe thead th {\n",
       "        text-align: right;\n",
       "    }\n",
       "</style>\n",
       "<table border=\"1\" class=\"dataframe\">\n",
       "  <thead>\n",
       "    <tr style=\"text-align: right;\">\n",
       "      <th></th>\n",
       "      <th>Unnamed: 0</th>\n",
       "      <th>work_year</th>\n",
       "      <th>experience_level</th>\n",
       "      <th>employment_type</th>\n",
       "      <th>job_title</th>\n",
       "      <th>salary</th>\n",
       "      <th>salary_currency</th>\n",
       "      <th>salary_in_usd</th>\n",
       "      <th>employee_residence</th>\n",
       "      <th>remote_ratio</th>\n",
       "      <th>company_location</th>\n",
       "      <th>company_size</th>\n",
       "    </tr>\n",
       "  </thead>\n",
       "  <tbody>\n",
       "    <tr>\n",
       "      <th>0</th>\n",
       "      <td>0</td>\n",
       "      <td>2020</td>\n",
       "      <td>MI</td>\n",
       "      <td>FT</td>\n",
       "      <td>Data Scientist</td>\n",
       "      <td>70000</td>\n",
       "      <td>EUR</td>\n",
       "      <td>79833</td>\n",
       "      <td>DE</td>\n",
       "      <td>0</td>\n",
       "      <td>DE</td>\n",
       "      <td>L</td>\n",
       "    </tr>\n",
       "    <tr>\n",
       "      <th>1</th>\n",
       "      <td>1</td>\n",
       "      <td>2020</td>\n",
       "      <td>SE</td>\n",
       "      <td>FT</td>\n",
       "      <td>Machine Learning Scientist</td>\n",
       "      <td>260000</td>\n",
       "      <td>USD</td>\n",
       "      <td>260000</td>\n",
       "      <td>JP</td>\n",
       "      <td>0</td>\n",
       "      <td>JP</td>\n",
       "      <td>S</td>\n",
       "    </tr>\n",
       "    <tr>\n",
       "      <th>2</th>\n",
       "      <td>2</td>\n",
       "      <td>2020</td>\n",
       "      <td>SE</td>\n",
       "      <td>FT</td>\n",
       "      <td>Big Data Engineer</td>\n",
       "      <td>85000</td>\n",
       "      <td>GBP</td>\n",
       "      <td>109024</td>\n",
       "      <td>GB</td>\n",
       "      <td>50</td>\n",
       "      <td>GB</td>\n",
       "      <td>M</td>\n",
       "    </tr>\n",
       "    <tr>\n",
       "      <th>3</th>\n",
       "      <td>3</td>\n",
       "      <td>2020</td>\n",
       "      <td>MI</td>\n",
       "      <td>FT</td>\n",
       "      <td>Product Data Analyst</td>\n",
       "      <td>20000</td>\n",
       "      <td>USD</td>\n",
       "      <td>20000</td>\n",
       "      <td>HN</td>\n",
       "      <td>0</td>\n",
       "      <td>HN</td>\n",
       "      <td>S</td>\n",
       "    </tr>\n",
       "    <tr>\n",
       "      <th>4</th>\n",
       "      <td>4</td>\n",
       "      <td>2020</td>\n",
       "      <td>SE</td>\n",
       "      <td>FT</td>\n",
       "      <td>Machine Learning Engineer</td>\n",
       "      <td>150000</td>\n",
       "      <td>USD</td>\n",
       "      <td>150000</td>\n",
       "      <td>US</td>\n",
       "      <td>50</td>\n",
       "      <td>US</td>\n",
       "      <td>L</td>\n",
       "    </tr>\n",
       "  </tbody>\n",
       "</table>\n",
       "</div>"
      ],
      "text/plain": [
       "   Unnamed: 0  work_year experience_level employment_type  \\\n",
       "0           0       2020               MI              FT   \n",
       "1           1       2020               SE              FT   \n",
       "2           2       2020               SE              FT   \n",
       "3           3       2020               MI              FT   \n",
       "4           4       2020               SE              FT   \n",
       "\n",
       "                    job_title  salary salary_currency  salary_in_usd  \\\n",
       "0              Data Scientist   70000             EUR          79833   \n",
       "1  Machine Learning Scientist  260000             USD         260000   \n",
       "2           Big Data Engineer   85000             GBP         109024   \n",
       "3        Product Data Analyst   20000             USD          20000   \n",
       "4   Machine Learning Engineer  150000             USD         150000   \n",
       "\n",
       "  employee_residence  remote_ratio company_location company_size  \n",
       "0                 DE             0               DE            L  \n",
       "1                 JP             0               JP            S  \n",
       "2                 GB            50               GB            M  \n",
       "3                 HN             0               HN            S  \n",
       "4                 US            50               US            L  "
      ]
     },
     "execution_count": 3,
     "metadata": {},
     "output_type": "execute_result"
    }
   ],
   "source": [
    "import pandas as pd \n",
    "\n",
    "df = pd.read_csv(\"/home/brilly/myskill_or_anything/belajar_sql_for_analisis/14. SQL Practice/ds_salaries.csv\")\n",
    "\n",
    "df.info()\n",
    "\n",
    "df.head()"
   ]
  },
  {
   "cell_type": "code",
   "execution_count": 3,
   "id": "c99718c0",
   "metadata": {},
   "outputs": [
    {
     "data": {
      "text/html": [
       "<div><style>\n",
       ".dataframe > thead > tr,\n",
       ".dataframe > tbody > tr {\n",
       "  text-align: right;\n",
       "  white-space: pre-wrap;\n",
       "}\n",
       "</style>\n",
       "<small>shape: (607, 12)</small><table border=\"1\" class=\"dataframe\"><thead><tr><th></th><th>work_year</th><th>experience_level</th><th>employment_type</th><th>job_title</th><th>salary</th><th>salary_currency</th><th>salary_in_usd</th><th>employee_residence</th><th>remote_ratio</th><th>company_location</th><th>company_size</th></tr><tr><td>i64</td><td>i64</td><td>str</td><td>str</td><td>str</td><td>i64</td><td>str</td><td>i64</td><td>str</td><td>i64</td><td>str</td><td>str</td></tr></thead><tbody><tr><td>0</td><td>2020</td><td>&quot;MI&quot;</td><td>&quot;FT&quot;</td><td>&quot;Data Scientist&quot;</td><td>70000</td><td>&quot;EUR&quot;</td><td>79833</td><td>&quot;DE&quot;</td><td>0</td><td>&quot;DE&quot;</td><td>&quot;L&quot;</td></tr><tr><td>1</td><td>2020</td><td>&quot;SE&quot;</td><td>&quot;FT&quot;</td><td>&quot;Machine Learning Scientist&quot;</td><td>260000</td><td>&quot;USD&quot;</td><td>260000</td><td>&quot;JP&quot;</td><td>0</td><td>&quot;JP&quot;</td><td>&quot;S&quot;</td></tr><tr><td>2</td><td>2020</td><td>&quot;SE&quot;</td><td>&quot;FT&quot;</td><td>&quot;Big Data Engineer&quot;</td><td>85000</td><td>&quot;GBP&quot;</td><td>109024</td><td>&quot;GB&quot;</td><td>50</td><td>&quot;GB&quot;</td><td>&quot;M&quot;</td></tr><tr><td>3</td><td>2020</td><td>&quot;MI&quot;</td><td>&quot;FT&quot;</td><td>&quot;Product Data Analyst&quot;</td><td>20000</td><td>&quot;USD&quot;</td><td>20000</td><td>&quot;HN&quot;</td><td>0</td><td>&quot;HN&quot;</td><td>&quot;S&quot;</td></tr><tr><td>4</td><td>2020</td><td>&quot;SE&quot;</td><td>&quot;FT&quot;</td><td>&quot;Machine Learning Engineer&quot;</td><td>150000</td><td>&quot;USD&quot;</td><td>150000</td><td>&quot;US&quot;</td><td>50</td><td>&quot;US&quot;</td><td>&quot;L&quot;</td></tr><tr><td>&hellip;</td><td>&hellip;</td><td>&hellip;</td><td>&hellip;</td><td>&hellip;</td><td>&hellip;</td><td>&hellip;</td><td>&hellip;</td><td>&hellip;</td><td>&hellip;</td><td>&hellip;</td><td>&hellip;</td></tr><tr><td>602</td><td>2022</td><td>&quot;SE&quot;</td><td>&quot;FT&quot;</td><td>&quot;Data Engineer&quot;</td><td>154000</td><td>&quot;USD&quot;</td><td>154000</td><td>&quot;US&quot;</td><td>100</td><td>&quot;US&quot;</td><td>&quot;M&quot;</td></tr><tr><td>603</td><td>2022</td><td>&quot;SE&quot;</td><td>&quot;FT&quot;</td><td>&quot;Data Engineer&quot;</td><td>126000</td><td>&quot;USD&quot;</td><td>126000</td><td>&quot;US&quot;</td><td>100</td><td>&quot;US&quot;</td><td>&quot;M&quot;</td></tr><tr><td>604</td><td>2022</td><td>&quot;SE&quot;</td><td>&quot;FT&quot;</td><td>&quot;Data Analyst&quot;</td><td>129000</td><td>&quot;USD&quot;</td><td>129000</td><td>&quot;US&quot;</td><td>0</td><td>&quot;US&quot;</td><td>&quot;M&quot;</td></tr><tr><td>605</td><td>2022</td><td>&quot;SE&quot;</td><td>&quot;FT&quot;</td><td>&quot;Data Analyst&quot;</td><td>150000</td><td>&quot;USD&quot;</td><td>150000</td><td>&quot;US&quot;</td><td>100</td><td>&quot;US&quot;</td><td>&quot;M&quot;</td></tr><tr><td>606</td><td>2022</td><td>&quot;MI&quot;</td><td>&quot;FT&quot;</td><td>&quot;AI Scientist&quot;</td><td>200000</td><td>&quot;USD&quot;</td><td>200000</td><td>&quot;IN&quot;</td><td>100</td><td>&quot;US&quot;</td><td>&quot;L&quot;</td></tr></tbody></table></div>"
      ],
      "text/plain": [
       "shape: (607, 12)\n",
       "┌─────┬───────────┬────────────┬────────────┬───┬────────────┬────────────┬────────────┬───────────┐\n",
       "│     ┆ work_year ┆ experience ┆ employment ┆ … ┆ employee_r ┆ remote_rat ┆ company_lo ┆ company_s │\n",
       "│ --- ┆ ---       ┆ _level     ┆ _type      ┆   ┆ esidence   ┆ io         ┆ cation     ┆ ize       │\n",
       "│ i64 ┆ i64       ┆ ---        ┆ ---        ┆   ┆ ---        ┆ ---        ┆ ---        ┆ ---       │\n",
       "│     ┆           ┆ str        ┆ str        ┆   ┆ str        ┆ i64        ┆ str        ┆ str       │\n",
       "╞═════╪═══════════╪════════════╪════════════╪═══╪════════════╪════════════╪════════════╪═══════════╡\n",
       "│ 0   ┆ 2020      ┆ MI         ┆ FT         ┆ … ┆ DE         ┆ 0          ┆ DE         ┆ L         │\n",
       "│ 1   ┆ 2020      ┆ SE         ┆ FT         ┆ … ┆ JP         ┆ 0          ┆ JP         ┆ S         │\n",
       "│ 2   ┆ 2020      ┆ SE         ┆ FT         ┆ … ┆ GB         ┆ 50         ┆ GB         ┆ M         │\n",
       "│ 3   ┆ 2020      ┆ MI         ┆ FT         ┆ … ┆ HN         ┆ 0          ┆ HN         ┆ S         │\n",
       "│ 4   ┆ 2020      ┆ SE         ┆ FT         ┆ … ┆ US         ┆ 50         ┆ US         ┆ L         │\n",
       "│ …   ┆ …         ┆ …          ┆ …          ┆ … ┆ …          ┆ …          ┆ …          ┆ …         │\n",
       "│ 602 ┆ 2022      ┆ SE         ┆ FT         ┆ … ┆ US         ┆ 100        ┆ US         ┆ M         │\n",
       "│ 603 ┆ 2022      ┆ SE         ┆ FT         ┆ … ┆ US         ┆ 100        ┆ US         ┆ M         │\n",
       "│ 604 ┆ 2022      ┆ SE         ┆ FT         ┆ … ┆ US         ┆ 0          ┆ US         ┆ M         │\n",
       "│ 605 ┆ 2022      ┆ SE         ┆ FT         ┆ … ┆ US         ┆ 100        ┆ US         ┆ M         │\n",
       "│ 606 ┆ 2022      ┆ MI         ┆ FT         ┆ … ┆ IN         ┆ 100        ┆ US         ┆ L         │\n",
       "└─────┴───────────┴────────────┴────────────┴───┴────────────┴────────────┴────────────┴───────────┘"
      ]
     },
     "execution_count": 3,
     "metadata": {},
     "output_type": "execute_result"
    }
   ],
   "source": [
    "import polars as pl\n",
    "\n",
    "df_pl = pl.read_csv(\"/home/brilly/myskill_or_anything/belajar_sql_for_analisis/14. SQL Practice/ds_salaries.csv\")\n",
    "\n",
    "# df_pl.head()\n",
    "\n",
    "df_pl.fill_null(0)"
   ]
  }
 ],
 "metadata": {
  "kernelspec": {
   "display_name": "base",
   "language": "python",
   "name": "python3"
  },
  "language_info": {
   "codemirror_mode": {
    "name": "ipython",
    "version": 3
   },
   "file_extension": ".py",
   "mimetype": "text/x-python",
   "name": "python",
   "nbconvert_exporter": "python",
   "pygments_lexer": "ipython3",
   "version": "3.12.4"
  }
 },
 "nbformat": 4,
 "nbformat_minor": 5
}
